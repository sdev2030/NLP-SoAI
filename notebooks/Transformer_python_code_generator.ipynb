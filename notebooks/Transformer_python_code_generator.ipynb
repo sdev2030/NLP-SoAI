{
  "nbformat": 4,
  "nbformat_minor": 0,
  "metadata": {
    "colab": {
      "name": "Transformer_python_code_generator.ipynb",
      "provenance": [],
      "collapsed_sections": [],
      "toc_visible": true
    },
    "kernelspec": {
      "name": "python3",
      "display_name": "Python 3"
    },
    "accelerator": "GPU"
  },
  "cells": [
    {
      "cell_type": "markdown",
      "metadata": {
        "id": "319h4INmeiLF"
      },
      "source": [
        "## Using Transformer for generating simple python code\n",
        "- Input file is from the final assignment (upload it to session if using colab)\n",
        "- Create two column csv file with text and python-code as pairs\n",
        "- Tokenize and create batches for training, dev and test\n",
        "- Train the self-attention, multi-head transformer model\n",
        "- print out the heatmap for example input and output records\n",
        "- Generate 25 example outputs from the model"
      ]
    },
    {
      "cell_type": "markdown",
      "metadata": {
        "id": "DX7dlSb3v040"
      },
      "source": [
        "## Import Library"
      ]
    },
    {
      "cell_type": "code",
      "metadata": {
        "colab": {
          "base_uri": "https://localhost:8080/"
        },
        "id": "Q-56TFpQvzz1",
        "outputId": "79d2416b-d893-4d3c-ff7f-c69171ea2ac3"
      },
      "source": [
        "!python -m spacy download en"
      ],
      "execution_count": 1,
      "outputs": [
        {
          "output_type": "stream",
          "text": [
            "Requirement already satisfied: en_core_web_sm==2.2.5 from https://github.com/explosion/spacy-models/releases/download/en_core_web_sm-2.2.5/en_core_web_sm-2.2.5.tar.gz#egg=en_core_web_sm==2.2.5 in /usr/local/lib/python3.7/dist-packages (2.2.5)\n",
            "Requirement already satisfied: spacy>=2.2.2 in /usr/local/lib/python3.7/dist-packages (from en_core_web_sm==2.2.5) (2.2.4)\n",
            "Requirement already satisfied: setuptools in /usr/local/lib/python3.7/dist-packages (from spacy>=2.2.2->en_core_web_sm==2.2.5) (54.1.2)\n",
            "Requirement already satisfied: requests<3.0.0,>=2.13.0 in /usr/local/lib/python3.7/dist-packages (from spacy>=2.2.2->en_core_web_sm==2.2.5) (2.23.0)\n",
            "Requirement already satisfied: plac<1.2.0,>=0.9.6 in /usr/local/lib/python3.7/dist-packages (from spacy>=2.2.2->en_core_web_sm==2.2.5) (1.1.3)\n",
            "Requirement already satisfied: tqdm<5.0.0,>=4.38.0 in /usr/local/lib/python3.7/dist-packages (from spacy>=2.2.2->en_core_web_sm==2.2.5) (4.41.1)\n",
            "Requirement already satisfied: thinc==7.4.0 in /usr/local/lib/python3.7/dist-packages (from spacy>=2.2.2->en_core_web_sm==2.2.5) (7.4.0)\n",
            "Requirement already satisfied: blis<0.5.0,>=0.4.0 in /usr/local/lib/python3.7/dist-packages (from spacy>=2.2.2->en_core_web_sm==2.2.5) (0.4.1)\n",
            "Requirement already satisfied: srsly<1.1.0,>=1.0.2 in /usr/local/lib/python3.7/dist-packages (from spacy>=2.2.2->en_core_web_sm==2.2.5) (1.0.5)\n",
            "Requirement already satisfied: murmurhash<1.1.0,>=0.28.0 in /usr/local/lib/python3.7/dist-packages (from spacy>=2.2.2->en_core_web_sm==2.2.5) (1.0.5)\n",
            "Requirement already satisfied: wasabi<1.1.0,>=0.4.0 in /usr/local/lib/python3.7/dist-packages (from spacy>=2.2.2->en_core_web_sm==2.2.5) (0.8.2)\n",
            "Requirement already satisfied: numpy>=1.15.0 in /usr/local/lib/python3.7/dist-packages (from spacy>=2.2.2->en_core_web_sm==2.2.5) (1.19.5)\n",
            "Requirement already satisfied: cymem<2.1.0,>=2.0.2 in /usr/local/lib/python3.7/dist-packages (from spacy>=2.2.2->en_core_web_sm==2.2.5) (2.0.5)\n",
            "Requirement already satisfied: preshed<3.1.0,>=3.0.2 in /usr/local/lib/python3.7/dist-packages (from spacy>=2.2.2->en_core_web_sm==2.2.5) (3.0.5)\n",
            "Requirement already satisfied: catalogue<1.1.0,>=0.0.7 in /usr/local/lib/python3.7/dist-packages (from spacy>=2.2.2->en_core_web_sm==2.2.5) (1.0.0)\n",
            "Requirement already satisfied: certifi>=2017.4.17 in /usr/local/lib/python3.7/dist-packages (from requests<3.0.0,>=2.13.0->spacy>=2.2.2->en_core_web_sm==2.2.5) (2020.12.5)\n",
            "Requirement already satisfied: chardet<4,>=3.0.2 in /usr/local/lib/python3.7/dist-packages (from requests<3.0.0,>=2.13.0->spacy>=2.2.2->en_core_web_sm==2.2.5) (3.0.4)\n",
            "Requirement already satisfied: idna<3,>=2.5 in /usr/local/lib/python3.7/dist-packages (from requests<3.0.0,>=2.13.0->spacy>=2.2.2->en_core_web_sm==2.2.5) (2.10)\n",
            "Requirement already satisfied: urllib3!=1.25.0,!=1.25.1,<1.26,>=1.21.1 in /usr/local/lib/python3.7/dist-packages (from requests<3.0.0,>=2.13.0->spacy>=2.2.2->en_core_web_sm==2.2.5) (1.24.3)\n",
            "Requirement already satisfied: importlib-metadata>=0.20; python_version < \"3.8\" in /usr/local/lib/python3.7/dist-packages (from catalogue<1.1.0,>=0.0.7->spacy>=2.2.2->en_core_web_sm==2.2.5) (3.7.2)\n",
            "Requirement already satisfied: typing-extensions>=3.6.4; python_version < \"3.8\" in /usr/local/lib/python3.7/dist-packages (from importlib-metadata>=0.20; python_version < \"3.8\"->catalogue<1.1.0,>=0.0.7->spacy>=2.2.2->en_core_web_sm==2.2.5) (3.7.4.3)\n",
            "Requirement already satisfied: zipp>=0.5 in /usr/local/lib/python3.7/dist-packages (from importlib-metadata>=0.20; python_version < \"3.8\"->catalogue<1.1.0,>=0.0.7->spacy>=2.2.2->en_core_web_sm==2.2.5) (3.4.1)\n",
            "\u001b[38;5;2m✔ Download and installation successful\u001b[0m\n",
            "You can now load the model via spacy.load('en_core_web_sm')\n",
            "\u001b[38;5;2m✔ Linking successful\u001b[0m\n",
            "/usr/local/lib/python3.7/dist-packages/en_core_web_sm -->\n",
            "/usr/local/lib/python3.7/dist-packages/spacy/data/en\n",
            "You can now load the model via spacy.load('en')\n"
          ],
          "name": "stdout"
        }
      ]
    },
    {
      "cell_type": "code",
      "metadata": {
        "id": "1g7LoDVleSt1"
      },
      "source": [
        "from __future__ import absolute_import\n",
        "from __future__ import division\n",
        "from __future__ import print_function\n",
        "from __future__ import unicode_literals\n",
        "\n",
        "import csv\n",
        "import random\n",
        "import re\n",
        "import os\n",
        "import math\n",
        "import time\n",
        "import unicodedata\n",
        "import codecs\n",
        "from io import open\n",
        "import itertools\n",
        "\n",
        "\n",
        "import torch\n",
        "import torch.nn as nn\n",
        "import torch.nn.functional as F\n",
        "import torch.optim as optim\n",
        "from torch.jit import script, trace\n",
        "\n",
        "import torchtext.legacy\n",
        "from torchtext.legacy.datasets import Multi30k\n",
        "from torchtext.legacy.data import Field, BucketIterator,TabularDataset\n",
        "from torchtext.data.functional import load_sp_model\n",
        "\n",
        "\n",
        "import matplotlib.pyplot as plt\n",
        "import matplotlib.ticker as ticker\n",
        "\n",
        "import spacy\n",
        "import numpy as np\n",
        "import pandas as pd\n",
        "\n",
        "import tokenize"
      ],
      "execution_count": 2,
      "outputs": []
    },
    {
      "cell_type": "code",
      "metadata": {
        "id": "pkjLQOHEv_X6"
      },
      "source": [
        "spacy_en = spacy.load('en')"
      ],
      "execution_count": 3,
      "outputs": []
    },
    {
      "cell_type": "code",
      "metadata": {
        "id": "1cM_t5cewWES"
      },
      "source": [
        "SEED = 1234\n",
        "\n",
        "random.seed(SEED)\n",
        "np.random.seed(SEED)\n",
        "torch.manual_seed(SEED)\n",
        "torch.cuda.manual_seed(SEED)\n",
        "torch.backends.cudnn.deterministic = True"
      ],
      "execution_count": 4,
      "outputs": []
    },
    {
      "cell_type": "markdown",
      "metadata": {
        "id": "GDi3HYo5feyP"
      },
      "source": [
        "## Clean and prepare data"
      ]
    },
    {
      "cell_type": "code",
      "metadata": {
        "id": "bsTw3Vy3oQg2"
      },
      "source": [
        "# Define maximum length of input text or program string to consider for training\n",
        "MAX_LENGTH = 300\n",
        "\n",
        "#Input file name \n",
        "python_data_file = '/content/1_formatted_noblank_lines.py'\n",
        "\n",
        "# Files names for processed output\n",
        "two_column_csv = '/content/2_column_out.csv'\n",
        "cleaned_input_file = '/content/src_trg_cols_trimmed.csv'"
      ],
      "execution_count": 5,
      "outputs": []
    },
    {
      "cell_type": "code",
      "metadata": {
        "id": "i69gtFWOd7NN"
      },
      "source": [
        "## Split function to convert the given input python file into 2 columns csv - \n",
        "##      First Column - input text identified by lines starting with # sign in first column\n",
        "##      Second Column - python code as string until the next # sign in first column is reached\n",
        "def create_2col_file(infile, outfile):\n",
        "\n",
        "    lines = open(infile, mode=\"r\", encoding=\"utf-8\").readlines()\n",
        "\n",
        "    i = 0\n",
        "    code = \"\"\n",
        "    rows_list = []  #list that will be written as csv file\n",
        "    for line in lines:\n",
        "        # print(line)\n",
        "        if i == 0: # For the first text line, save it to text field\n",
        "            text = re.sub('[^a-zA-Z]', ' ', line[:5]) + line[5:]\n",
        "            i += 1\n",
        "        elif line[0] == \"#\" and code == \"\":  # Skip lines that are comments only without code\n",
        "            text = re.sub('[^a-zA-Z]', ' ', line[:5]) + line[5:] # get rid of # and other numbers\n",
        "            i += 1\n",
        "            continue\n",
        "        elif line[0] == \"#\":\n",
        "            rows_list.append([text.strip(), code.strip()])\n",
        "            text = re.sub('[^a-zA-Z]', ' ', line[:5]) + line[5:] # get rid of # and other numbers\n",
        "            code = \"\"\n",
        "            i += 1\n",
        "        elif line.strip()[0] == \"#\":    ## ignore lines with comments only \n",
        "            i += 1\n",
        "            continue\n",
        "        else:\n",
        "            code = code + line\n",
        "            i += 1\n",
        "    # append the last text and code\n",
        "    rows_list.append([text.strip(), code.strip()])\n",
        "    print(\"Total Number of rows\", len(rows_list))\n",
        "\n",
        "    with open(outfile, \"w\", newline=\"\", encoding=\"utf-8\") as f:\n",
        "        writer = csv.writer(f)\n",
        "        writer.writerows(rows_list)\n",
        "      \n",
        "    return"
      ],
      "execution_count": 6,
      "outputs": []
    },
    {
      "cell_type": "code",
      "metadata": {
        "colab": {
          "base_uri": "https://localhost:8080/"
        },
        "id": "thHMo10alTnk",
        "outputId": "d0983581-65b4-490d-a987-8f8b670c4a02"
      },
      "source": [
        "# Process the input file to a csv file\n",
        "create_2col_file(python_data_file, two_column_csv)"
      ],
      "execution_count": 7,
      "outputs": [
        {
          "output_type": "stream",
          "text": [
            "Total Number of rows 4343\n"
          ],
          "name": "stdout"
        }
      ]
    },
    {
      "cell_type": "code",
      "metadata": {
        "id": "tae6i7_2U1SU"
      },
      "source": [
        "header_list = [\"src\", \"trg\"]\n",
        "df = pd.read_csv(two_column_csv, encoding='utf-8', names=header_list)"
      ],
      "execution_count": 8,
      "outputs": []
    },
    {
      "cell_type": "code",
      "metadata": {
        "colab": {
          "base_uri": "https://localhost:8080/",
          "height": 204
        },
        "id": "L9WHDGCogTJB",
        "outputId": "bd2a7ea3-b515-48df-d859-ddc3e1c6fe8c"
      },
      "source": [
        "df.head()"
      ],
      "execution_count": 9,
      "outputs": [
        {
          "output_type": "execute_result",
          "data": {
            "text/html": [
              "<div>\n",
              "<style scoped>\n",
              "    .dataframe tbody tr th:only-of-type {\n",
              "        vertical-align: middle;\n",
              "    }\n",
              "\n",
              "    .dataframe tbody tr th {\n",
              "        vertical-align: top;\n",
              "    }\n",
              "\n",
              "    .dataframe thead th {\n",
              "        text-align: right;\n",
              "    }\n",
              "</style>\n",
              "<table border=\"1\" class=\"dataframe\">\n",
              "  <thead>\n",
              "    <tr style=\"text-align: right;\">\n",
              "      <th></th>\n",
              "      <th>src</th>\n",
              "      <th>trg</th>\n",
              "    </tr>\n",
              "  </thead>\n",
              "  <tbody>\n",
              "    <tr>\n",
              "      <th>0</th>\n",
              "      <td>write a python program to add two numbers</td>\n",
              "      <td>num1 = 1.5\\nnum2 = 6.3\\nsum = num1 + num2\\npri...</td>\n",
              "    </tr>\n",
              "    <tr>\n",
              "      <th>1</th>\n",
              "      <td>write a python function to add two user provid...</td>\n",
              "      <td>def add_two_numbers(num1, num2):\\n    sum = nu...</td>\n",
              "    </tr>\n",
              "    <tr>\n",
              "      <th>2</th>\n",
              "      <td>write a program to find and print the largest ...</td>\n",
              "      <td>num1 = 10\\nnum2 = 12\\nnum3 = 14\\nif (num1 &gt;= n...</td>\n",
              "    </tr>\n",
              "    <tr>\n",
              "      <th>3</th>\n",
              "      <td>write a program to find and print the smallest...</td>\n",
              "      <td>num1 = 10\\nnum2 = 12\\nnum3 = 14\\nif (num1 &lt;= n...</td>\n",
              "    </tr>\n",
              "    <tr>\n",
              "      <th>4</th>\n",
              "      <td>Write a python function to merge two given lis...</td>\n",
              "      <td>def merge_lists(l1, l2):\\n    return l1 + l2</td>\n",
              "    </tr>\n",
              "  </tbody>\n",
              "</table>\n",
              "</div>"
            ],
            "text/plain": [
              "                                                 src                                                trg\n",
              "0          write a python program to add two numbers  num1 = 1.5\\nnum2 = 6.3\\nsum = num1 + num2\\npri...\n",
              "1  write a python function to add two user provid...  def add_two_numbers(num1, num2):\\n    sum = nu...\n",
              "2  write a program to find and print the largest ...  num1 = 10\\nnum2 = 12\\nnum3 = 14\\nif (num1 >= n...\n",
              "3  write a program to find and print the smallest...  num1 = 10\\nnum2 = 12\\nnum3 = 14\\nif (num1 <= n...\n",
              "4  Write a python function to merge two given lis...       def merge_lists(l1, l2):\\n    return l1 + l2"
            ]
          },
          "metadata": {
            "tags": []
          },
          "execution_count": 9
        }
      ]
    },
    {
      "cell_type": "code",
      "metadata": {
        "colab": {
          "base_uri": "https://localhost:8080/"
        },
        "id": "U9zNzKC4m6tr",
        "outputId": "287a481c-8457-4ea5-db5e-d0093d7f1731"
      },
      "source": [
        "## Find out the max string lengths of each column\n",
        "measurer = np.vectorize(len)\n",
        "res1 = measurer(df.values.astype(str)).max(axis=0)\n",
        "res1"
      ],
      "execution_count": 10,
      "outputs": [
        {
          "output_type": "execute_result",
          "data": {
            "text/plain": [
              "array([ 309, 5375])"
            ]
          },
          "metadata": {
            "tags": []
          },
          "execution_count": 10
        }
      ]
    },
    {
      "cell_type": "code",
      "metadata": {
        "id": "3m6ubpNQn7rZ",
        "colab": {
          "base_uri": "https://localhost:8080/"
        },
        "outputId": "858dcee1-37f2-4fcd-d674-297b9498cdc3"
      },
      "source": [
        "# keep only rows that meets maximum length limit\n",
        "mask = ((df['src'].str.len() <= MAX_LENGTH) & (df['trg'].str.len() <= MAX_LENGTH))\n",
        "df_trimmed = df.loc[mask]\n",
        "\n",
        "df_trimmed.count()"
      ],
      "execution_count": 11,
      "outputs": [
        {
          "output_type": "execute_result",
          "data": {
            "text/plain": [
              "src    3868\n",
              "trg    3868\n",
              "dtype: int64"
            ]
          },
          "metadata": {
            "tags": []
          },
          "execution_count": 11
        }
      ]
    },
    {
      "cell_type": "code",
      "metadata": {
        "id": "wArV2GAhglH7"
      },
      "source": [
        "# Save trimmed data to a new file\n",
        "df_trimmed.to_csv(cleaned_input_file, index=False)"
      ],
      "execution_count": 12,
      "outputs": []
    },
    {
      "cell_type": "markdown",
      "metadata": {
        "id": "yrSK2YPEwRs1"
      },
      "source": [
        "## Create Data Iterator"
      ]
    },
    {
      "cell_type": "code",
      "metadata": {
        "id": "9SGWkHHli6p4"
      },
      "source": [
        "# Constants used for tokenizing and detokenizing the python code\n",
        "INDENT = \"<ind>\"\n",
        "DEDENT = \"<ded>\"\n",
        "EOL = \"<eol>\"\n",
        "NEWLINE = \"\\n\"\n",
        "TAB = \"    \"\n",
        "\n",
        "def detokenize_py(input, eol=EOL):\n",
        "    input_string = \" \".join(x for x in input).replace(eol + \" \", NEWLINE)\n",
        "    #print(input_string)\n",
        "    lines = input_string.split(NEWLINE+' ')\n",
        "    output_str = \"\"\n",
        "    cnt_ind = 0\n",
        "    for line in lines:\n",
        "        #print(line)\n",
        "        if INDENT in line:\n",
        "            cnt_ind += line.count(INDENT)\n",
        "            line = TAB * cnt_ind + line.replace(INDENT + \" \", \"\", 10)\n",
        "        elif DEDENT in line:\n",
        "            cnt_ind -= line.count(DEDENT)\n",
        "            line = TAB * cnt_ind + line.replace(DEDENT + \" \", \"\", 10).replace(DEDENT, \"\", 10)\n",
        "        else:\n",
        "            line = TAB * cnt_ind + line\n",
        "        output_str += line + NEWLINE\n",
        "    return output_str"
      ],
      "execution_count": 13,
      "outputs": []
    },
    {
      "cell_type": "code",
      "metadata": {
        "id": "0r3eALvhvoj2"
      },
      "source": [
        "def tokenize_en(text):\n",
        "    \"\"\"\n",
        "    Tokenizes English text from a string into a list of strings\n",
        "    \"\"\"\n",
        "    return [tok.text for tok in spacy_en.tokenizer(text)]\n",
        "    #return sp.encode(text, out_type=str)\n",
        "\n",
        "def tokenize_py(text):\n",
        "    \"\"\"\n",
        "    Tokenize python code from string to list of strings using python tokenizer\n",
        "    \"\"\"\n",
        "    lines = iter(text.splitlines(True))\n",
        "    #print(text)\n",
        "    try:\n",
        "      tokens = tokenize.generate_tokens(lines.__next__)\n",
        "    except:\n",
        "      print(text)\n",
        "      raise exception(\"missing valid python code!\")\n",
        "    output = []\n",
        "    for token in tokens:\n",
        "        # print(str(token), str(token.start[0]))\n",
        "        if token.type == tokenize.NEWLINE:\n",
        "            value = NEWLINE\n",
        "        elif token.type == tokenize.ENDMARKER:\n",
        "            continue\n",
        "        elif token.type == tokenize.INDENT:\n",
        "            value = INDENT\n",
        "        elif token.type == tokenize.DEDENT:\n",
        "            value = DEDENT\n",
        "        elif token.type == tokenize.COMMENT:\n",
        "            continue\n",
        "        elif token.type == tokenize.NL:\n",
        "            continue\n",
        "        else:\n",
        "            value = token[1]\n",
        "        output = output + [value]\n",
        "    return output"
      ],
      "execution_count": 14,
      "outputs": []
    },
    {
      "cell_type": "code",
      "metadata": {
        "id": "T6H9zN0qwbNt"
      },
      "source": [
        "src = Field(tokenize = tokenize_en,\n",
        "            init_token = '<sos>', \n",
        "            eos_token = '<eos>', \n",
        "            lower = True, \n",
        "            batch_first = True)\n",
        "\n",
        "trg = Field(tokenize = tokenize_py, \n",
        "            init_token = '<sos>', \n",
        "            eos_token = '<eos>', \n",
        "            #lower = True, \n",
        "            batch_first = True)\n",
        "\n",
        "fields = {'src' : ('src', src),\n",
        "          'trg' : ('trg', trg)}"
      ],
      "execution_count": 15,
      "outputs": []
    },
    {
      "cell_type": "code",
      "metadata": {
        "id": "tWk6eGL9w195"
      },
      "source": [
        "qa_data  = TabularDataset(\n",
        "                            path = cleaned_input_file,\n",
        "                            format = 'csv',\n",
        "                            fields = fields\n",
        "                            )"
      ],
      "execution_count": 16,
      "outputs": []
    },
    {
      "cell_type": "code",
      "metadata": {
        "id": "hVCCfv-R5FtJ"
      },
      "source": [
        "train_data, valid_data, test_data = qa_data.split([0.8,.1,.1])"
      ],
      "execution_count": 17,
      "outputs": []
    },
    {
      "cell_type": "code",
      "metadata": {
        "id": "ntZeMT3qxFqD"
      },
      "source": [
        "src.build_vocab(train_data, min_freq = 1)\n",
        "trg.build_vocab(train_data, min_freq = 1)"
      ],
      "execution_count": 18,
      "outputs": []
    },
    {
      "cell_type": "code",
      "metadata": {
        "colab": {
          "base_uri": "https://localhost:8080/"
        },
        "id": "1L2KapJBhOgl",
        "outputId": "45ea3a82-fcad-46b0-fe0a-f2ee693deb85"
      },
      "source": [
        "len(src.vocab), len(trg.vocab)"
      ],
      "execution_count": 19,
      "outputs": [
        {
          "output_type": "execute_result",
          "data": {
            "text/plain": [
              "(1783, 4552)"
            ]
          },
          "metadata": {
            "tags": []
          },
          "execution_count": 19
        }
      ]
    },
    {
      "cell_type": "code",
      "metadata": {
        "colab": {
          "base_uri": "https://localhost:8080/"
        },
        "id": "pIOtco5YxIza",
        "outputId": "fd0accde-e209-4256-bb6f-3280d39095a2"
      },
      "source": [
        "device = torch.device('cuda' if torch.cuda.is_available() else 'cpu')\n",
        "print(device)\n",
        "\n",
        "BATCH_SIZE = 128\n",
        "\n",
        "train_iterator, valid_iterator, test_iterator = BucketIterator.splits(\n",
        "    (train_data, valid_data, test_data), \n",
        "     batch_size = BATCH_SIZE,\n",
        "     device = device,\n",
        "     sort_within_batch = True,\n",
        "     sort_key = lambda x: len(x.src))"
      ],
      "execution_count": 20,
      "outputs": [
        {
          "output_type": "stream",
          "text": [
            "cuda\n"
          ],
          "name": "stdout"
        }
      ]
    },
    {
      "cell_type": "code",
      "metadata": {
        "id": "yuaZR9YG-WDa"
      },
      "source": [
        "# Get the first batch from iterator\n",
        "for i, batch in enumerate(train_iterator):\n",
        "    break\n"
      ],
      "execution_count": 21,
      "outputs": []
    },
    {
      "cell_type": "code",
      "metadata": {
        "colab": {
          "base_uri": "https://localhost:8080/"
        },
        "id": "0MGNB9SBBDvx",
        "outputId": "023550ad-9609-44bd-c145-f0e44cb53d91"
      },
      "source": [
        "# Check batch dimensions\n",
        "batch.trg.size(), batch.src.size()"
      ],
      "execution_count": 22,
      "outputs": [
        {
          "output_type": "execute_result",
          "data": {
            "text/plain": [
              "(torch.Size([128, 123]), torch.Size([128, 13]))"
            ]
          },
          "metadata": {
            "tags": []
          },
          "execution_count": 22
        }
      ]
    },
    {
      "cell_type": "code",
      "metadata": {
        "id": "JKys0tYOsx_C",
        "colab": {
          "base_uri": "https://localhost:8080/"
        },
        "outputId": "adae94e0-3190-4396-b8c7-4a503d32146c"
      },
      "source": [
        "# Look at a source record\n",
        "[src.vocab.itos[i] for i in batch.src[0]]"
      ],
      "execution_count": 23,
      "outputs": [
        {
          "output_type": "execute_result",
          "data": {
            "text/plain": [
              "['<sos>',\n",
              " 'write',\n",
              " 'a',\n",
              " 'function',\n",
              " 'to',\n",
              " 'rotate',\n",
              " 'string',\n",
              " 'right',\n",
              " 'by',\n",
              " 'a',\n",
              " 'given',\n",
              " 'length',\n",
              " '<eos>']"
            ]
          },
          "metadata": {
            "tags": []
          },
          "execution_count": 23
        }
      ]
    },
    {
      "cell_type": "code",
      "metadata": {
        "id": "Z4ljW_IJydGr",
        "colab": {
          "base_uri": "https://localhost:8080/"
        },
        "outputId": "87bd4653-beab-44c7-8255-0764282b8945"
      },
      "source": [
        "# Look at the corresponding target record without padding (its id is 1)\n",
        "[trg.vocab.itos[i] for i in batch.trg[0] if i != 1]"
      ],
      "execution_count": 24,
      "outputs": [
        {
          "output_type": "execute_result",
          "data": {
            "text/plain": [
              "['<sos>',\n",
              " 'def',\n",
              " 'rotate_right',\n",
              " '(',\n",
              " 'input',\n",
              " ',',\n",
              " 'd',\n",
              " ')',\n",
              " ':',\n",
              " '\\n',\n",
              " '<ind>',\n",
              " 'Rfirst',\n",
              " '=',\n",
              " 'input',\n",
              " '[',\n",
              " '0',\n",
              " ':',\n",
              " 'len',\n",
              " '(',\n",
              " 'input',\n",
              " ')',\n",
              " '-',\n",
              " 'd',\n",
              " ']',\n",
              " '\\n',\n",
              " 'Rsecond',\n",
              " '=',\n",
              " 'input',\n",
              " '[',\n",
              " 'len',\n",
              " '(',\n",
              " 'input',\n",
              " ')',\n",
              " '-',\n",
              " 'd',\n",
              " ':',\n",
              " ']',\n",
              " '\\n',\n",
              " 'return',\n",
              " '(',\n",
              " 'Rsecond',\n",
              " '+',\n",
              " 'Rfirst',\n",
              " ')',\n",
              " '\\n',\n",
              " '<ded>',\n",
              " '<eos>']"
            ]
          },
          "metadata": {
            "tags": []
          },
          "execution_count": 24
        }
      ]
    },
    {
      "cell_type": "markdown",
      "metadata": {
        "id": "vHBjZNvKxXJz"
      },
      "source": [
        "## Create Model"
      ]
    },
    {
      "cell_type": "code",
      "metadata": {
        "id": "BfmBE9TExZp4"
      },
      "source": [
        "class Encoder(nn.Module):\n",
        "    def __init__(self, \n",
        "                 input_dim, \n",
        "                 hid_dim, \n",
        "                 n_layers, \n",
        "                 n_heads, \n",
        "                 pf_dim,\n",
        "                 dropout, \n",
        "                 device,\n",
        "                 max_length = 300):\n",
        "        super().__init__()\n",
        "\n",
        "        self.device = device\n",
        "        \n",
        "        self.tok_embedding = nn.Embedding(input_dim, hid_dim)\n",
        "        self.pos_embedding = nn.Embedding(max_length, hid_dim)\n",
        "        \n",
        "        self.layers = nn.ModuleList([EncoderLayer(hid_dim, \n",
        "                                                  n_heads, \n",
        "                                                  pf_dim,\n",
        "                                                  dropout, \n",
        "                                                  device) \n",
        "                                     for _ in range(n_layers)])\n",
        "        \n",
        "        self.dropout = nn.Dropout(dropout)\n",
        "        \n",
        "        self.scale = torch.sqrt(torch.FloatTensor([hid_dim])).to(device)\n",
        "        \n",
        "    def forward(self, src, src_mask):\n",
        "        \n",
        "        #src = [batch size, src len]\n",
        "        #src_mask = [batch size, 1, 1, src len]\n",
        "        \n",
        "        batch_size = src.shape[0]\n",
        "        src_len = src.shape[1]\n",
        "        \n",
        "        pos = torch.arange(0, src_len).unsqueeze(0).repeat(batch_size, 1).to(self.device)\n",
        "        \n",
        "        #pos = [batch size, src len]\n",
        "        \n",
        "        src = self.dropout((self.tok_embedding(src) * self.scale) + self.pos_embedding(pos))\n",
        "        \n",
        "        #src = [batch size, src len, hid dim]\n",
        "        \n",
        "        for layer in self.layers:\n",
        "            src = layer(src, src_mask)\n",
        "            \n",
        "        #src = [batch size, src len, hid dim]\n",
        "            \n",
        "        return src"
      ],
      "execution_count": 25,
      "outputs": []
    },
    {
      "cell_type": "code",
      "metadata": {
        "id": "u9qxyjFyxkZ-"
      },
      "source": [
        "class EncoderLayer(nn.Module):\n",
        "    def __init__(self, \n",
        "                 hid_dim, \n",
        "                 n_heads, \n",
        "                 pf_dim,  \n",
        "                 dropout, \n",
        "                 device):\n",
        "        super().__init__()\n",
        "        \n",
        "        self.self_attn_layer_norm = nn.LayerNorm(hid_dim)\n",
        "        self.ff_layer_norm = nn.LayerNorm(hid_dim)\n",
        "        self.self_attention = MultiHeadAttentionLayer(hid_dim, n_heads, dropout, device)\n",
        "        self.positionwise_feedforward = PositionwiseFeedforwardLayer(hid_dim, \n",
        "                                                                     pf_dim, \n",
        "                                                                     dropout)\n",
        "        self.dropout = nn.Dropout(dropout)\n",
        "        \n",
        "    def forward(self, src, src_mask):\n",
        "        \n",
        "        #src = [batch size, src len, hid dim]\n",
        "        #src_mask = [batch size, 1, 1, src len] \n",
        "                \n",
        "        #self attention\n",
        "        _src, _ = self.self_attention(src, src, src, src_mask)\n",
        "        \n",
        "        #dropout, residual connection and layer norm\n",
        "        src = self.self_attn_layer_norm(src + self.dropout(_src))\n",
        "        \n",
        "        #src = [batch size, src len, hid dim]\n",
        "        \n",
        "        #positionwise feedforward\n",
        "        _src = self.positionwise_feedforward(src)\n",
        "        \n",
        "        #dropout, residual and layer norm\n",
        "        src = self.ff_layer_norm(src + self.dropout(_src))\n",
        "        \n",
        "        #src = [batch size, src len, hid dim]\n",
        "        \n",
        "        return src"
      ],
      "execution_count": 26,
      "outputs": []
    },
    {
      "cell_type": "code",
      "metadata": {
        "id": "3PvdRBnOxoC0"
      },
      "source": [
        "class MultiHeadAttentionLayer(nn.Module):\n",
        "    def __init__(self, hid_dim, n_heads, dropout, device):\n",
        "        super().__init__()\n",
        "        \n",
        "        assert hid_dim % n_heads == 0\n",
        "        \n",
        "        self.hid_dim = hid_dim\n",
        "        self.n_heads = n_heads\n",
        "        self.head_dim = hid_dim // n_heads\n",
        "        \n",
        "        self.fc_q = nn.Linear(hid_dim, hid_dim)\n",
        "        self.fc_k = nn.Linear(hid_dim, hid_dim)\n",
        "        self.fc_v = nn.Linear(hid_dim, hid_dim)\n",
        "        \n",
        "        self.fc_o = nn.Linear(hid_dim, hid_dim)\n",
        "        \n",
        "        self.dropout = nn.Dropout(dropout)\n",
        "        \n",
        "        self.scale = torch.sqrt(torch.FloatTensor([self.head_dim])).to(device)\n",
        "        \n",
        "    def forward(self, query, key, value, mask = None):\n",
        "        \n",
        "        batch_size = query.shape[0]\n",
        "        \n",
        "        #query = [batch size, query len, hid dim]\n",
        "        #key = [batch size, key len, hid dim]\n",
        "        #value = [batch size, value len, hid dim]\n",
        "                \n",
        "        Q = self.fc_q(query)\n",
        "        K = self.fc_k(key)\n",
        "        V = self.fc_v(value)\n",
        "        \n",
        "        #Q = [batch size, query len, hid dim]\n",
        "        #K = [batch size, key len, hid dim]\n",
        "        #V = [batch size, value len, hid dim]\n",
        "                \n",
        "        Q = Q.view(batch_size, -1, self.n_heads, self.head_dim).permute(0, 2, 1, 3)\n",
        "        K = K.view(batch_size, -1, self.n_heads, self.head_dim).permute(0, 2, 1, 3)\n",
        "        V = V.view(batch_size, -1, self.n_heads, self.head_dim).permute(0, 2, 1, 3)\n",
        "        \n",
        "        #Q = [batch size, n heads, query len, head dim]\n",
        "        #K = [batch size, n heads, key len, head dim]\n",
        "        #V = [batch size, n heads, value len, head dim]\n",
        "                \n",
        "        energy = torch.matmul(Q, K.permute(0, 1, 3, 2)) / self.scale\n",
        "        \n",
        "        #energy = [batch size, n heads, query len, key len]\n",
        "        \n",
        "        if mask is not None:\n",
        "            energy = energy.masked_fill(mask == 0, -1e10)\n",
        "        \n",
        "        attention = torch.softmax(energy, dim = -1)\n",
        "                \n",
        "        #attention = [batch size, n heads, query len, key len]\n",
        "                \n",
        "        x = torch.matmul(self.dropout(attention), V)\n",
        "        \n",
        "        #x = [batch size, n heads, query len, head dim]\n",
        "        \n",
        "        x = x.permute(0, 2, 1, 3).contiguous()\n",
        "        \n",
        "        #x = [batch size, query len, n heads, head dim]\n",
        "        \n",
        "        x = x.view(batch_size, -1, self.hid_dim)\n",
        "        \n",
        "        #x = [batch size, query len, hid dim]\n",
        "        \n",
        "        x = self.fc_o(x)\n",
        "        \n",
        "        #x = [batch size, query len, hid dim]\n",
        "        \n",
        "        return x, attention"
      ],
      "execution_count": 27,
      "outputs": []
    },
    {
      "cell_type": "code",
      "metadata": {
        "id": "IawJOco-xt0J"
      },
      "source": [
        "class PositionwiseFeedforwardLayer(nn.Module):\n",
        "    def __init__(self, hid_dim, pf_dim, dropout):\n",
        "        super().__init__()\n",
        "        \n",
        "        self.fc_1 = nn.Linear(hid_dim, pf_dim)\n",
        "        self.fc_2 = nn.Linear(pf_dim, hid_dim)\n",
        "        \n",
        "        self.dropout = nn.Dropout(dropout)\n",
        "        \n",
        "    def forward(self, x):\n",
        "        \n",
        "        #x = [batch size, seq len, hid dim]\n",
        "        \n",
        "        x = self.dropout(torch.relu(self.fc_1(x)))\n",
        "        \n",
        "        #x = [batch size, seq len, pf dim]\n",
        "        \n",
        "        x = self.fc_2(x)\n",
        "        \n",
        "        #x = [batch size, seq len, hid dim]\n",
        "        \n",
        "        return x"
      ],
      "execution_count": 28,
      "outputs": []
    },
    {
      "cell_type": "code",
      "metadata": {
        "id": "z0bPPzQbxxPb"
      },
      "source": [
        "class Decoder(nn.Module):\n",
        "    def __init__(self, \n",
        "                 output_dim, \n",
        "                 hid_dim, \n",
        "                 n_layers, \n",
        "                 n_heads, \n",
        "                 pf_dim, \n",
        "                 dropout, \n",
        "                 device,\n",
        "                 max_length = 1000):\n",
        "        super().__init__()\n",
        "        \n",
        "        self.device = device\n",
        "        \n",
        "        self.tok_embedding = nn.Embedding(output_dim, hid_dim)\n",
        "        self.pos_embedding = nn.Embedding(max_length, hid_dim)\n",
        "        \n",
        "        self.layers = nn.ModuleList([DecoderLayer(hid_dim, \n",
        "                                                  n_heads, \n",
        "                                                  pf_dim, \n",
        "                                                  dropout, \n",
        "                                                  device)\n",
        "                                     for _ in range(n_layers)])\n",
        "        \n",
        "        self.fc_out = nn.Linear(hid_dim, output_dim)\n",
        "        \n",
        "        self.dropout = nn.Dropout(dropout)\n",
        "        \n",
        "        self.scale = torch.sqrt(torch.FloatTensor([hid_dim])).to(device)\n",
        "        \n",
        "    def forward(self, trg, enc_src, trg_mask, src_mask):\n",
        "        \n",
        "        #trg = [batch size, trg len]\n",
        "        #enc_src = [batch size, src len, hid dim]\n",
        "        #trg_mask = [batch size, 1, trg len, trg len]\n",
        "        #src_mask = [batch size, 1, 1, src len]\n",
        "                \n",
        "        batch_size = trg.shape[0]\n",
        "        trg_len = trg.shape[1]\n",
        "        \n",
        "        pos = torch.arange(0, trg_len).unsqueeze(0).repeat(batch_size, 1).to(self.device)\n",
        "                            \n",
        "        #pos = [batch size, trg len]\n",
        "            \n",
        "        trg = self.dropout((self.tok_embedding(trg) * self.scale) + self.pos_embedding(pos))\n",
        "                \n",
        "        #trg = [batch size, trg len, hid dim]\n",
        "        \n",
        "        for layer in self.layers:\n",
        "            trg, attention = layer(trg, enc_src, trg_mask, src_mask)\n",
        "        \n",
        "        #trg = [batch size, trg len, hid dim]\n",
        "        #attention = [batch size, n heads, trg len, src len]\n",
        "        \n",
        "        output = self.fc_out(trg)\n",
        "        \n",
        "        #output = [batch size, trg len, output dim]\n",
        "            \n",
        "        return output, attention"
      ],
      "execution_count": 29,
      "outputs": []
    },
    {
      "cell_type": "code",
      "metadata": {
        "id": "iNT6H3xBxzPM"
      },
      "source": [
        "class DecoderLayer(nn.Module):\n",
        "    def __init__(self, \n",
        "                 hid_dim, \n",
        "                 n_heads, \n",
        "                 pf_dim, \n",
        "                 dropout, \n",
        "                 device):\n",
        "        super().__init__()\n",
        "        \n",
        "        self.self_attn_layer_norm = nn.LayerNorm(hid_dim)\n",
        "        self.enc_attn_layer_norm = nn.LayerNorm(hid_dim)\n",
        "        self.ff_layer_norm = nn.LayerNorm(hid_dim)\n",
        "        self.self_attention = MultiHeadAttentionLayer(hid_dim, n_heads, dropout, device)\n",
        "        self.encoder_attention = MultiHeadAttentionLayer(hid_dim, n_heads, dropout, device)\n",
        "        self.positionwise_feedforward = PositionwiseFeedforwardLayer(hid_dim, \n",
        "                                                                     pf_dim, \n",
        "                                                                     dropout)\n",
        "        self.dropout = nn.Dropout(dropout)\n",
        "        \n",
        "    def forward(self, trg, enc_src, trg_mask, src_mask):\n",
        "        \n",
        "        #trg = [batch size, trg len, hid dim]\n",
        "        #enc_src = [batch size, src len, hid dim]\n",
        "        #trg_mask = [batch size, 1, trg len, trg len]\n",
        "        #src_mask = [batch size, 1, 1, src len]\n",
        "        \n",
        "        #self attention\n",
        "        _trg, _ = self.self_attention(trg, trg, trg, trg_mask)\n",
        "        \n",
        "        #dropout, residual connection and layer norm\n",
        "        trg = self.self_attn_layer_norm(trg + self.dropout(_trg))\n",
        "            \n",
        "        #trg = [batch size, trg len, hid dim]\n",
        "            \n",
        "        #encoder attention\n",
        "        _trg, attention = self.encoder_attention(trg, enc_src, enc_src, src_mask)\n",
        "        # query, key, value\n",
        "        \n",
        "        #dropout, residual connection and layer norm\n",
        "        trg = self.enc_attn_layer_norm(trg + self.dropout(_trg))\n",
        "                    \n",
        "        #trg = [batch size, trg len, hid dim]\n",
        "        \n",
        "        #positionwise feedforward\n",
        "        _trg = self.positionwise_feedforward(trg)\n",
        "        \n",
        "        #dropout, residual and layer norm\n",
        "        trg = self.ff_layer_norm(trg + self.dropout(_trg))\n",
        "        \n",
        "        #trg = [batch size, trg len, hid dim]\n",
        "        #attention = [batch size, n heads, trg len, src len]\n",
        "        \n",
        "        return trg, attention"
      ],
      "execution_count": 30,
      "outputs": []
    },
    {
      "cell_type": "code",
      "metadata": {
        "id": "p53Pfh0Kx3EK"
      },
      "source": [
        "class Seq2Seq(nn.Module):\n",
        "    def __init__(self, \n",
        "                 encoder, \n",
        "                 decoder, \n",
        "                 src_pad_idx, \n",
        "                 trg_pad_idx, \n",
        "                 device):\n",
        "        super().__init__()\n",
        "        \n",
        "        self.encoder = encoder\n",
        "        self.decoder = decoder\n",
        "        self.src_pad_idx = src_pad_idx\n",
        "        self.trg_pad_idx = trg_pad_idx\n",
        "        self.device = device\n",
        "        \n",
        "    def make_src_mask(self, src):\n",
        "        \n",
        "        #src = [batch size, src len]\n",
        "        \n",
        "        src_mask = (src != self.src_pad_idx).unsqueeze(1).unsqueeze(2)\n",
        "\n",
        "        #src_mask = [batch size, 1, 1, src len]\n",
        "\n",
        "        return src_mask\n",
        "    \n",
        "    def make_trg_mask(self, trg):\n",
        "        \n",
        "        #trg = [batch size, trg len]\n",
        "        \n",
        "        trg_pad_mask = (trg != self.trg_pad_idx).unsqueeze(1).unsqueeze(2)\n",
        "        \n",
        "        #trg_pad_mask = [batch size, 1, 1, trg len]\n",
        "        \n",
        "        trg_len = trg.shape[1]\n",
        "        \n",
        "        trg_sub_mask = torch.tril(torch.ones((trg_len, trg_len), device = self.device)).bool()\n",
        "        \n",
        "        #trg_sub_mask = [trg len, trg len]\n",
        "            \n",
        "        trg_mask = trg_pad_mask & trg_sub_mask\n",
        "        \n",
        "        #trg_mask = [batch size, 1, trg len, trg len]\n",
        "        \n",
        "        return trg_mask\n",
        "\n",
        "    def forward(self, src, trg):\n",
        "        \n",
        "        #src = [batch size, src len]\n",
        "        #trg = [batch size, trg len]\n",
        "                \n",
        "        src_mask = self.make_src_mask(src)\n",
        "        trg_mask = self.make_trg_mask(trg)\n",
        "        \n",
        "        #src_mask = [batch size, 1, 1, src len]\n",
        "        #trg_mask = [batch size, 1, trg len, trg len]\n",
        "        \n",
        "        enc_src = self.encoder(src, src_mask)\n",
        "        \n",
        "        #enc_src = [batch size, src len, hid dim]\n",
        "                \n",
        "        output, attention = self.decoder(trg, enc_src, trg_mask, src_mask)\n",
        "        #print(trg_mask.sum())\n",
        "        #output = [batch size, trg len, output dim]\n",
        "        #attention = [batch size, n heads, trg len, src len]\n",
        "        \n",
        "        return output, attention"
      ],
      "execution_count": 31,
      "outputs": []
    },
    {
      "cell_type": "markdown",
      "metadata": {
        "id": "1dNw_PH6x_HG"
      },
      "source": [
        "## Train and Evaluate the Model"
      ]
    },
    {
      "cell_type": "code",
      "metadata": {
        "id": "sWvoKBcByBHq"
      },
      "source": [
        "INPUT_DIM = len(src.vocab)\n",
        "OUTPUT_DIM = len(trg.vocab)\n",
        "HID_DIM = 256\n",
        "ENC_LAYERS = 3\n",
        "DEC_LAYERS = 3\n",
        "ENC_HEADS = 8 #8\n",
        "DEC_HEADS = 8 #8\n",
        "ENC_PF_DIM = 512\n",
        "DEC_PF_DIM = 512\n",
        "ENC_DROPOUT = 0.1\n",
        "DEC_DROPOUT = 0.2\n",
        "\n",
        "enc = Encoder(INPUT_DIM, \n",
        "              HID_DIM, \n",
        "              ENC_LAYERS, \n",
        "              ENC_HEADS, \n",
        "              ENC_PF_DIM, \n",
        "              ENC_DROPOUT, \n",
        "              device)\n",
        "\n",
        "dec = Decoder(OUTPUT_DIM, \n",
        "              HID_DIM, \n",
        "              DEC_LAYERS, \n",
        "              DEC_HEADS, \n",
        "              DEC_PF_DIM, \n",
        "              DEC_DROPOUT, \n",
        "              device)"
      ],
      "execution_count": 32,
      "outputs": []
    },
    {
      "cell_type": "code",
      "metadata": {
        "id": "P42vx2VtyEP9"
      },
      "source": [
        "SRC_PAD_IDX = src.vocab.stoi[src.pad_token]\n",
        "TRG_PAD_IDX = trg.vocab.stoi[trg.pad_token]\n",
        "\n",
        "model = Seq2Seq(enc, dec, SRC_PAD_IDX, TRG_PAD_IDX, device).to(device)"
      ],
      "execution_count": 33,
      "outputs": []
    },
    {
      "cell_type": "code",
      "metadata": {
        "colab": {
          "base_uri": "https://localhost:8080/"
        },
        "id": "XNRfTMLoyJpo",
        "outputId": "23086666-0cb7-41b7-8f8f-715802919932"
      },
      "source": [
        "def count_parameters(model):\n",
        "    return sum(p.numel() for p in model.parameters() if p.requires_grad)\n",
        "\n",
        "print(f'The model has {count_parameters(model):,} trainable parameters')"
      ],
      "execution_count": 34,
      "outputs": [
        {
          "output_type": "stream",
          "text": [
            "The model has 7,078,088 trainable parameters\n"
          ],
          "name": "stdout"
        }
      ]
    },
    {
      "cell_type": "code",
      "metadata": {
        "id": "N7F-DUPOyM3E"
      },
      "source": [
        "def initialize_weights(m):\n",
        "    if hasattr(m, 'weight') and m.weight.dim() > 1:\n",
        "        nn.init.xavier_uniform_(m.weight.data)"
      ],
      "execution_count": 35,
      "outputs": []
    },
    {
      "cell_type": "code",
      "metadata": {
        "id": "yJQysPIn7llK"
      },
      "source": [
        "# This code is from openNMT repo https://github.com/OpenNMT/OpenNMT-py/blob/e8622eb5c6117269bb3accd8eb6f66282b5e67d9/onmt/utils/loss.py#L186\n",
        "class LabelSmoothingLoss(nn.Module):\n",
        "    \"\"\"\n",
        "    With label smoothing,\n",
        "    KL-divergence between q_{smoothed ground truth prob.}(w)\n",
        "    and p_{prob. computed by model}(w) is minimized.\n",
        "    \"\"\"\n",
        "    def __init__(self, label_smoothing, tgt_vocab_size, ignore_index=-100):\n",
        "        assert 0.0 < label_smoothing <= 1.0\n",
        "        self.ignore_index = ignore_index\n",
        "        super(LabelSmoothingLoss, self).__init__()\n",
        "\n",
        "        smoothing_value = label_smoothing / (tgt_vocab_size - 2)\n",
        "        one_hot = torch.full((tgt_vocab_size,), smoothing_value)\n",
        "        one_hot[self.ignore_index] = 0\n",
        "        self.register_buffer('one_hot', one_hot.unsqueeze(0))\n",
        "\n",
        "        self.confidence = (1.0 - label_smoothing)\n",
        "\n",
        "    def forward(self, output, target):\n",
        "        \"\"\"\n",
        "        output (FloatTensor): batch_size x n_classes\n",
        "        target (LongTensor): batch_size\n",
        "        \"\"\"\n",
        "        model_prob = self.one_hot.repeat(target.size(0), 1)\n",
        "        model_prob.scatter_(1, target.unsqueeze(1), self.confidence)\n",
        "        model_prob.masked_fill_((target == self.ignore_index).unsqueeze(1), 0)\n",
        "\n",
        "        return F.kl_div(output, model_prob, reduction='batchmean')\n",
        "\n",
        "label_smoothing = 0.1\n",
        "tgt_vocab_size = len(trg.vocab)"
      ],
      "execution_count": 36,
      "outputs": []
    },
    {
      "cell_type": "code",
      "metadata": {
        "id": "EzsWvchNyO05"
      },
      "source": [
        "model.apply(initialize_weights);"
      ],
      "execution_count": 37,
      "outputs": []
    },
    {
      "cell_type": "code",
      "metadata": {
        "id": "A93X5p_NymvO"
      },
      "source": [
        "LEARNING_RATE = 0.0005\n",
        "\n",
        "optimizer = torch.optim.Adam(model.parameters(), lr = LEARNING_RATE)"
      ],
      "execution_count": 38,
      "outputs": []
    },
    {
      "cell_type": "code",
      "metadata": {
        "id": "3zWaOK7tyssE"
      },
      "source": [
        "criterion = nn.CrossEntropyLoss(ignore_index = TRG_PAD_IDX)\n",
        "#criterion = LabelSmoothingLoss(label_smoothing, tgt_vocab_size, ignore_index=TRG_PAD_IDX).cuda()"
      ],
      "execution_count": 39,
      "outputs": []
    },
    {
      "cell_type": "code",
      "metadata": {
        "id": "h5soh4ljythQ"
      },
      "source": [
        "def train(model, iterator, optimizer, criterion, clip):\n",
        "    \n",
        "    model.train()\n",
        "    \n",
        "    epoch_loss = 0\n",
        "    \n",
        "    for i, batch in enumerate(iterator):\n",
        "        \n",
        "        src = batch.src\n",
        "        trg = batch.trg\n",
        "        #print(trg.shape)\n",
        "        seq_len = trg.shape[1] -1 \n",
        "        optimizer.zero_grad()\n",
        "        \n",
        "        output, _ = model(src, trg[:,:-1])\n",
        "                \n",
        "        #output = [batch size, trg len - 1, output dim]\n",
        "        #trg = [batch size, trg len]\n",
        "            \n",
        "        output_dim = output.shape[-1]\n",
        "            \n",
        "        output = output.contiguous().view(-1, output_dim)\n",
        "        trg = trg[:,1:].contiguous().view(-1)\n",
        "                \n",
        "        #output = [batch size * trg len - 1, output dim]\n",
        "        #trg = [batch size * trg len - 1]\n",
        "        #print(output.shape,trg.shape)    \n",
        "        loss = criterion(output, trg)\n",
        "        \n",
        "        loss.backward()\n",
        "        \n",
        "        torch.nn.utils.clip_grad_norm_(model.parameters(), clip)\n",
        "        \n",
        "        optimizer.step()\n",
        "        \n",
        "        epoch_loss += loss.item()/ seq_len\n",
        "        \n",
        "    return epoch_loss / len(iterator)"
      ],
      "execution_count": 40,
      "outputs": []
    },
    {
      "cell_type": "code",
      "metadata": {
        "id": "2YlBqATAy0bE"
      },
      "source": [
        "def evaluate(model, iterator, criterion):\n",
        "    \n",
        "    model.eval()\n",
        "    \n",
        "    epoch_loss = 0\n",
        "    \n",
        "    with torch.no_grad():\n",
        "    \n",
        "        for i, batch in enumerate(iterator):\n",
        "\n",
        "            src = batch.src\n",
        "            trg = batch.trg\n",
        "            seq_len = trg.shape[1] -1\n",
        "\n",
        "            output, _ = model(src, trg[:,:-1])\n",
        "            \n",
        "            #output = [batch size, trg len - 1, output dim]\n",
        "            #trg = [batch size, trg len]\n",
        "            \n",
        "            output_dim = output.shape[-1]\n",
        "            \n",
        "            output = output.contiguous().view(-1, output_dim)\n",
        "            trg = trg[:,1:].contiguous().view(-1)\n",
        "            \n",
        "            #output = [batch size * trg len - 1, output dim]\n",
        "            #trg = [batch size * trg len - 1]\n",
        "            \n",
        "            loss = criterion(output, trg)\n",
        "\n",
        "            epoch_loss += loss.item()/seq_len\n",
        "        \n",
        "    return epoch_loss / len(iterator)"
      ],
      "execution_count": 41,
      "outputs": []
    },
    {
      "cell_type": "code",
      "metadata": {
        "id": "Fc2Ad-Uly6nG"
      },
      "source": [
        "def epoch_time(start_time, end_time):\n",
        "    elapsed_time = end_time - start_time\n",
        "    elapsed_mins = int(elapsed_time / 60)\n",
        "    elapsed_secs = int(elapsed_time - (elapsed_mins * 60))\n",
        "    return elapsed_mins, elapsed_secs"
      ],
      "execution_count": 42,
      "outputs": []
    },
    {
      "cell_type": "code",
      "metadata": {
        "colab": {
          "base_uri": "https://localhost:8080/"
        },
        "id": "2bYu67WnzQMw",
        "outputId": "f282f7e4-3cc1-48cf-d69d-bf55d828471f"
      },
      "source": [
        "N_EPOCHS = 30\n",
        "CLIP = 1\n",
        "\n",
        "best_valid_loss = float('inf')\n",
        "\n",
        "for epoch in range(N_EPOCHS):\n",
        "    \n",
        "    start_time = time.time()\n",
        "    \n",
        "    train_loss = train(model, train_iterator, optimizer, criterion, CLIP)\n",
        "    valid_loss = evaluate(model, valid_iterator, criterion)\n",
        "    \n",
        "    end_time = time.time()\n",
        "    \n",
        "    epoch_mins, epoch_secs = epoch_time(start_time, end_time)\n",
        "    \n",
        "    if valid_loss < best_valid_loss:\n",
        "        best_valid_loss = valid_loss\n",
        "        torch.save(model.state_dict(), 'model.pt')\n",
        "    \n",
        "    print(f'Epoch: {epoch+1:02} | Time: {epoch_mins}m {epoch_secs}s')\n",
        "    print(f'\\tTrain Loss: {train_loss:.3f} | Train PPL: {math.exp(train_loss):7.3f}')\n",
        "    print(f'\\t Val. Loss: {valid_loss:.3f} |  Val. PPL: {math.exp(valid_loss):7.3f}')"
      ],
      "execution_count": 43,
      "outputs": [
        {
          "output_type": "stream",
          "text": [
            "Epoch: 01 | Time: 0m 4s\n",
            "\tTrain Loss: 0.054 | Train PPL:   1.056\n",
            "\t Val. Loss: 0.047 |  Val. PPL:   1.048\n",
            "Epoch: 02 | Time: 0m 4s\n",
            "\tTrain Loss: 0.037 | Train PPL:   1.038\n",
            "\t Val. Loss: 0.035 |  Val. PPL:   1.036\n",
            "Epoch: 03 | Time: 0m 4s\n",
            "\tTrain Loss: 0.029 | Train PPL:   1.030\n",
            "\t Val. Loss: 0.029 |  Val. PPL:   1.030\n",
            "Epoch: 04 | Time: 0m 4s\n",
            "\tTrain Loss: 0.026 | Train PPL:   1.026\n",
            "\t Val. Loss: 0.026 |  Val. PPL:   1.027\n",
            "Epoch: 05 | Time: 0m 4s\n",
            "\tTrain Loss: 0.023 | Train PPL:   1.024\n",
            "\t Val. Loss: 0.024 |  Val. PPL:   1.024\n",
            "Epoch: 06 | Time: 0m 4s\n",
            "\tTrain Loss: 0.021 | Train PPL:   1.022\n",
            "\t Val. Loss: 0.023 |  Val. PPL:   1.023\n",
            "Epoch: 07 | Time: 0m 5s\n",
            "\tTrain Loss: 0.020 | Train PPL:   1.020\n",
            "\t Val. Loss: 0.021 |  Val. PPL:   1.021\n",
            "Epoch: 08 | Time: 0m 4s\n",
            "\tTrain Loss: 0.019 | Train PPL:   1.019\n",
            "\t Val. Loss: 0.020 |  Val. PPL:   1.020\n",
            "Epoch: 09 | Time: 0m 5s\n",
            "\tTrain Loss: 0.018 | Train PPL:   1.018\n",
            "\t Val. Loss: 0.019 |  Val. PPL:   1.019\n",
            "Epoch: 10 | Time: 0m 5s\n",
            "\tTrain Loss: 0.017 | Train PPL:   1.017\n",
            "\t Val. Loss: 0.018 |  Val. PPL:   1.018\n",
            "Epoch: 11 | Time: 0m 5s\n",
            "\tTrain Loss: 0.016 | Train PPL:   1.016\n",
            "\t Val. Loss: 0.017 |  Val. PPL:   1.018\n",
            "Epoch: 12 | Time: 0m 5s\n",
            "\tTrain Loss: 0.015 | Train PPL:   1.015\n",
            "\t Val. Loss: 0.017 |  Val. PPL:   1.017\n",
            "Epoch: 13 | Time: 0m 5s\n",
            "\tTrain Loss: 0.014 | Train PPL:   1.014\n",
            "\t Val. Loss: 0.016 |  Val. PPL:   1.016\n",
            "Epoch: 14 | Time: 0m 5s\n",
            "\tTrain Loss: 0.014 | Train PPL:   1.014\n",
            "\t Val. Loss: 0.015 |  Val. PPL:   1.016\n",
            "Epoch: 15 | Time: 0m 4s\n",
            "\tTrain Loss: 0.013 | Train PPL:   1.013\n",
            "\t Val. Loss: 0.015 |  Val. PPL:   1.015\n",
            "Epoch: 16 | Time: 0m 4s\n",
            "\tTrain Loss: 0.012 | Train PPL:   1.012\n",
            "\t Val. Loss: 0.014 |  Val. PPL:   1.015\n",
            "Epoch: 17 | Time: 0m 4s\n",
            "\tTrain Loss: 0.012 | Train PPL:   1.012\n",
            "\t Val. Loss: 0.014 |  Val. PPL:   1.014\n",
            "Epoch: 18 | Time: 0m 4s\n",
            "\tTrain Loss: 0.011 | Train PPL:   1.011\n",
            "\t Val. Loss: 0.014 |  Val. PPL:   1.014\n",
            "Epoch: 19 | Time: 0m 4s\n",
            "\tTrain Loss: 0.011 | Train PPL:   1.011\n",
            "\t Val. Loss: 0.013 |  Val. PPL:   1.013\n",
            "Epoch: 20 | Time: 0m 4s\n",
            "\tTrain Loss: 0.010 | Train PPL:   1.010\n",
            "\t Val. Loss: 0.013 |  Val. PPL:   1.013\n",
            "Epoch: 21 | Time: 0m 4s\n",
            "\tTrain Loss: 0.010 | Train PPL:   1.010\n",
            "\t Val. Loss: 0.012 |  Val. PPL:   1.013\n",
            "Epoch: 22 | Time: 0m 4s\n",
            "\tTrain Loss: 0.009 | Train PPL:   1.009\n",
            "\t Val. Loss: 0.012 |  Val. PPL:   1.012\n",
            "Epoch: 23 | Time: 0m 5s\n",
            "\tTrain Loss: 0.009 | Train PPL:   1.009\n",
            "\t Val. Loss: 0.012 |  Val. PPL:   1.012\n",
            "Epoch: 24 | Time: 0m 4s\n",
            "\tTrain Loss: 0.008 | Train PPL:   1.008\n",
            "\t Val. Loss: 0.012 |  Val. PPL:   1.012\n",
            "Epoch: 25 | Time: 0m 4s\n",
            "\tTrain Loss: 0.008 | Train PPL:   1.008\n",
            "\t Val. Loss: 0.011 |  Val. PPL:   1.011\n",
            "Epoch: 26 | Time: 0m 5s\n",
            "\tTrain Loss: 0.008 | Train PPL:   1.008\n",
            "\t Val. Loss: 0.011 |  Val. PPL:   1.011\n",
            "Epoch: 27 | Time: 0m 5s\n",
            "\tTrain Loss: 0.007 | Train PPL:   1.007\n",
            "\t Val. Loss: 0.011 |  Val. PPL:   1.011\n",
            "Epoch: 28 | Time: 0m 5s\n",
            "\tTrain Loss: 0.007 | Train PPL:   1.007\n",
            "\t Val. Loss: 0.011 |  Val. PPL:   1.011\n",
            "Epoch: 29 | Time: 0m 5s\n",
            "\tTrain Loss: 0.007 | Train PPL:   1.007\n",
            "\t Val. Loss: 0.011 |  Val. PPL:   1.011\n",
            "Epoch: 30 | Time: 0m 5s\n",
            "\tTrain Loss: 0.006 | Train PPL:   1.006\n",
            "\t Val. Loss: 0.011 |  Val. PPL:   1.011\n"
          ],
          "name": "stdout"
        }
      ]
    },
    {
      "cell_type": "code",
      "metadata": {
        "colab": {
          "base_uri": "https://localhost:8080/"
        },
        "id": "vyXpKwmYy3eB",
        "outputId": "6f6eadd1-70d5-4acb-d547-13b6d19d5199"
      },
      "source": [
        "model.load_state_dict(torch.load('model.pt'))\n",
        "\n",
        "test_loss = evaluate(model, test_iterator, criterion)\n",
        "\n",
        "print(f'| Test Loss: {test_loss:.3f} | Test PPL: {math.exp(test_loss):7.3f} |')"
      ],
      "execution_count": 44,
      "outputs": [
        {
          "output_type": "stream",
          "text": [
            "| Test Loss: 0.012 | Test PPL:   1.012 |\n"
          ],
          "name": "stdout"
        }
      ]
    },
    {
      "cell_type": "code",
      "metadata": {
        "id": "cPG2ITSQzQgY"
      },
      "source": [
        "## Display Attention"
      ],
      "execution_count": 45,
      "outputs": []
    },
    {
      "cell_type": "code",
      "metadata": {
        "id": "Ip1NfeIWzTOj"
      },
      "source": [
        "def translate_sentence(sentence, src_field, trg_field, model, device, max_len = 500):\n",
        "    \n",
        "    model.eval()\n",
        "        \n",
        "    if isinstance(sentence, str):\n",
        "        nlp = spacy.load('en')\n",
        "        tokens = [token.text.lower() for token in nlp(sentence)]\n",
        "    else:\n",
        "        tokens = [token.lower() for token in sentence]\n",
        "\n",
        "    tokens = [src_field.init_token] + tokens + [src_field.eos_token]\n",
        "        \n",
        "    src_indexes = [src_field.vocab.stoi[token] for token in tokens]\n",
        "\n",
        "    src_tensor = torch.LongTensor(src_indexes).unsqueeze(0).to(device)\n",
        "    \n",
        "    src_mask = model.make_src_mask(src_tensor)\n",
        "    \n",
        "    with torch.no_grad():\n",
        "        enc_src = model.encoder(src_tensor, src_mask)\n",
        "\n",
        "    trg_indexes = [trg_field.vocab.stoi[trg_field.init_token]]\n",
        "\n",
        "    for i in range(max_len):\n",
        "\n",
        "        trg_tensor = torch.LongTensor(trg_indexes).unsqueeze(0).to(device)\n",
        "\n",
        "        trg_mask = model.make_trg_mask(trg_tensor)\n",
        "        \n",
        "        with torch.no_grad():\n",
        "            output, attention = model.decoder(trg_tensor, enc_src, trg_mask, src_mask)\n",
        "        \n",
        "        pred_token = output.argmax(2)[:,-1].item()\n",
        "        \n",
        "        trg_indexes.append(pred_token)\n",
        "\n",
        "        if pred_token == trg_field.vocab.stoi[trg_field.eos_token]:\n",
        "            break\n",
        "    print(trg_indexes)\n",
        "    trg_tokens = [trg_field.vocab.itos[i] for i in trg_indexes]\n",
        "    \n",
        "    return trg_tokens[1:], attention"
      ],
      "execution_count": 46,
      "outputs": []
    },
    {
      "cell_type": "code",
      "metadata": {
        "id": "5FBmk-97zZJ7"
      },
      "source": [
        "def display_attention(sentence, translation, attention, n_heads = 8, n_rows = 4, n_cols = 2):\n",
        "    \n",
        "    assert n_rows * n_cols == n_heads\n",
        "    \n",
        "    fig = plt.figure(figsize= (35, 75)) #(15,25))\n",
        "    \n",
        "    for i in range(n_heads):\n",
        "        \n",
        "        ax = fig.add_subplot(n_rows, n_cols, i+1)\n",
        "        \n",
        "        _attention = attention.squeeze(0)[i].cpu().detach().numpy()\n",
        "\n",
        "        cax = ax.matshow(_attention, cmap='bone')\n",
        "\n",
        "        ax.tick_params(labelsize= 12)\n",
        "        ax.set_xticklabels(['']+['<sos>']+[t.lower() for t in sentence]+['<eos>'], \n",
        "                           rotation=45)\n",
        "        ax.set_yticklabels(['']+translation)\n",
        "\n",
        "        ax.xaxis.set_major_locator(ticker.MultipleLocator(1))\n",
        "        ax.yaxis.set_major_locator(ticker.MultipleLocator(1))\n",
        "\n",
        "    plt.show()"
      ],
      "execution_count": 47,
      "outputs": []
    },
    {
      "cell_type": "code",
      "metadata": {
        "colab": {
          "base_uri": "https://localhost:8080/"
        },
        "id": "BZXerc97zaUw",
        "outputId": "1601da26-a1c4-425a-a77b-1fc04d7e67e4"
      },
      "source": [
        "example_idx = 2\n",
        "\n",
        "src_1 = vars(train_data.examples[example_idx])['src']\n",
        "trg_1 = vars(train_data.examples[example_idx])['trg']\n",
        "\n",
        "print(f'src = {src_1}')\n",
        "print(f'trg = {trg_1}')"
      ],
      "execution_count": 48,
      "outputs": [
        {
          "output_type": "stream",
          "text": [
            "src = ['write', 'a', 'python', 'function', 'to', 'find', 'element', 'occurring', 'odd', 'number', 'of', 'times', 'in', 'a', 'list']\n",
            "trg = ['def', 'find_odd_occurring', '(', 'alist', ')', ':', '\\n', '<ind>', 'ans', '=', '0', '\\n', 'for', 'element', 'in', 'alist', ':', '\\n', '<ind>', 'ans', '^=', 'element', '\\n', '<ded>', 'return', 'ans', '\\n', '<ded>']\n"
          ],
          "name": "stdout"
        }
      ]
    },
    {
      "cell_type": "code",
      "metadata": {
        "colab": {
          "base_uri": "https://localhost:8080/"
        },
        "id": "0P0eXWrn0UNs",
        "outputId": "e14a99ce-7bdd-46d5-a69a-8137bab5d46b"
      },
      "source": [
        "translation, attention = translate_sentence(src_1, src, trg, model, device)\n",
        "\n",
        "print(f'predicted trg = {translation}')"
      ],
      "execution_count": 49,
      "outputs": [
        {
          "output_type": "stream",
          "text": [
            "[2, 17, 2436, 5, 196, 6, 8, 4, 11, 534, 9, 22, 4, 21, 319, 20, 196, 8, 4, 11, 534, 530, 319, 4, 10, 18, 534, 4, 10, 3]\n",
            "predicted trg = ['def', 'find_odd_occurring', '(', 'alist', ')', ':', '\\n', '<ind>', 'ans', '=', '0', '\\n', 'for', 'element', 'in', 'alist', ':', '\\n', '<ind>', 'ans', '^=', 'element', '\\n', '<ded>', 'return', 'ans', '\\n', '<ded>', '<eos>']\n"
          ],
          "name": "stdout"
        }
      ]
    },
    {
      "cell_type": "code",
      "metadata": {
        "colab": {
          "base_uri": "https://localhost:8080/",
          "height": 1000
        },
        "id": "kDYj-E-bzgiy",
        "outputId": "9cb87ec0-132b-432a-9b26-7f20203c4691"
      },
      "source": [
        "display_attention(src_1, translation, attention)"
      ],
      "execution_count": 50,
      "outputs": [
        {
          "output_type": "display_data",
          "data": {
            "image/png": "[encoded data removed]",
            "text/plain": [
              "<Figure size 2520x5400 with 8 Axes>"
            ]
          },
          "metadata": {
            "tags": [],
            "needs_background": "light"
          }
        }
      ]
    },
    {
      "cell_type": "code",
      "metadata": {
        "colab": {
          "base_uri": "https://localhost:8080/"
        },
        "id": "2mNGAeYezrM6",
        "outputId": "a65c8327-0c26-4ac5-eee5-1e8a1e6e4893"
      },
      "source": [
        "example_idx = 92\n",
        "\n",
        "src_1 = vars(valid_data.examples[example_idx])['src']\n",
        "trg_1 = vars(valid_data.examples[example_idx])['trg']\n",
        "\n",
        "print(f'src = {src_1}')\n",
        "print(f'trg = {trg_1}')"
      ],
      "execution_count": 51,
      "outputs": [
        {
          "output_type": "stream",
          "text": [
            "src = ['write', 'a', 'python', 'program', 'that', 'adds', 'the', 'elements', 'of', 'a', 'list', 'to', 'a', 'set', 'and', 'prints', 'the', 'set']\n",
            "trg = ['my_set', '=', '{', '1', ',', '2', ',', '3', '}', '\\n', 'my_list', '=', '[', '4', ',', '5', ',', '6', ']', '\\n', 'my_set', '.', 'update', '(', 'my_list', ')', '\\n', 'print', '(', 'my_set', ')', '\\n']\n"
          ],
          "name": "stdout"
        }
      ]
    },
    {
      "cell_type": "code",
      "metadata": {
        "colab": {
          "base_uri": "https://localhost:8080/"
        },
        "id": "GSggZQQPzxNq",
        "outputId": "ee79be56-e26f-44cb-c41d-a9bd3d773898"
      },
      "source": [
        "translation, attention = translate_sentence(src_1, src, trg, model, device)\n",
        "\n",
        "print(f'predicted trg = {translation}')"
      ],
      "execution_count": 52,
      "outputs": [
        {
          "output_type": "stream",
          "text": [
            "[2, 872, 9, 38, 16, 7, 23, 7, 34, 7, 35, 39, 4, 299, 9, 50, 5, 872, 6, 4, 3]\n",
            "predicted trg = ['myset', '=', '{', '1', ',', '2', ',', '4', ',', '5', '}', '\\n', 'mylist', '=', 'list', '(', 'myset', ')', '\\n', '<eos>']\n"
          ],
          "name": "stdout"
        }
      ]
    },
    {
      "cell_type": "code",
      "metadata": {
        "colab": {
          "base_uri": "https://localhost:8080/",
          "height": 1000
        },
        "id": "eFkf8Y5ozyPx",
        "outputId": "fe633610-3cc0-4661-a757-048017cedc88"
      },
      "source": [
        "display_attention(src_1, translation, attention)"
      ],
      "execution_count": 53,
      "outputs": [
        {
          "output_type": "display_data",
          "data": {
            "image/png": "[encoded data removed]",
            "text/plain": [
              "<Figure size 2520x5400 with 8 Axes>"
            ]
          },
          "metadata": {
            "tags": [],
            "needs_background": "light"
          }
        }
      ]
    },
    {
      "cell_type": "markdown",
      "metadata": {
        "id": "Ue2M6A17ztV1"
      },
      "source": [
        "## Chatbot using Trained Model"
      ]
    },
    {
      "cell_type": "code",
      "metadata": {
        "id": "v2KXP0cYzvqY"
      },
      "source": [
        "def generate_words(sentence, sentence_field, target_field, model, device,max_length=200):\n",
        "  model.eval()\n",
        "\n",
        "  #tokens = [token.lower() for token in sentence]\n",
        "  #tokens = [token for token in sentence]\n",
        "  tokens = sentence.lower().split()\n",
        "  #print(tokens)\n",
        "  tokens = [sentence_field.init_token] + tokens + [sentence_field.eos_token]\n",
        "  src_indexes = [sentence_field.vocab.stoi[token] for token in tokens]\n",
        "  #print(src_indexes)\n",
        "  src_tensor = torch.LongTensor(src_indexes).unsqueeze(0).to(device)\n",
        "  src_mask = model.make_src_mask(src_tensor)\n",
        "\n",
        "  with torch.no_grad():\n",
        "      enc_src = model.encoder(src_tensor, src_mask)\n",
        "\n",
        "  trg_indexes = [sentence_field.vocab.stoi[sentence_field.init_token]]\n",
        "\n",
        "  for i in range(max_length):\n",
        "\n",
        "        trg_tensor = torch.LongTensor(trg_indexes).unsqueeze(0).to(device)\n",
        "\n",
        "        trg_mask = model.make_trg_mask(trg_tensor)\n",
        "        \n",
        "        with torch.no_grad():\n",
        "            output, attention = model.decoder(trg_tensor, enc_src, trg_mask, src_mask)\n",
        "        \n",
        "        pred_token = output.argmax(2)[:,-1].item()\n",
        "        \n",
        "        trg_indexes.append(pred_token)\n",
        "\n",
        "        if pred_token == sentence_field.vocab.stoi[sentence_field.eos_token]:\n",
        "            break\n",
        "    \n",
        "  #trg_tokens = [sentence_field.vocab.itos[i] for i in trg_indexes]\n",
        "  trg_tokens = [target_field.vocab.itos[i] for i in trg_indexes]\n",
        "  return trg_tokens[1:]"
      ],
      "execution_count": 54,
      "outputs": []
    },
    {
      "cell_type": "code",
      "metadata": {
        "id": "CzIn2JeVz4Nk"
      },
      "source": [
        "def chatbot(sentence_field, target_field, model, device):\n",
        "    input_sentence = ''\n",
        "    while(1):\n",
        "        try:\n",
        "            # Get input sentence\n",
        "            input_sentence = input('> ')\n",
        "            # Check if it is quit case\n",
        "            if input_sentence == 'q' or input_sentence == 'quit': break\n",
        "            # Normalize sentence\n",
        "            #input_sentence = normalizeString(input_sentence)\n",
        "            # Evaluate sentence\n",
        "            output_words = generate_words(input_sentence, sentence_field, target_field, model, device,max_length=300)\n",
        "            # Format and print response sentence\n",
        "            output_words[:] = [x for x in output_words if not (x == '<eos>' or x == '<pad>' or x == '<unk>')]\n",
        "            #print('Bot:', ('~'.join(output_words)).replace('<eol>', '\\n'))\n",
        "            #print(output_words)\n",
        "            print(detokenize_py(output_words))\n",
        "            #print('Bot:', sp.decode(output_words).replace('<EOL>', '\\n').replace('<INDENT>', '\\t'))\n",
        "\n",
        "        except KeyError:\n",
        "            print(\"Error: Encountered unknown word.\")"
      ],
      "execution_count": 55,
      "outputs": []
    },
    {
      "cell_type": "code",
      "metadata": {
        "colab": {
          "base_uri": "https://localhost:8080/"
        },
        "id": "s9FkQWdW0Ibm",
        "outputId": "00becabe-5f61-4b91-d01e-8a95cd6a88fe"
      },
      "source": [
        "model.load_state_dict(torch.load('model.pt'))\n",
        "chatbot(src, trg, model, device)"
      ],
      "execution_count": null,
      "outputs": [
        {
          "output_type": "stream",
          "text": [
            "> write a program to add two numbers\n",
            "num1 = 1.5 \n",
            "num2 = 6.3 \n",
            "sum = num1 + num2 \n",
            "print ( f'Sum: {sum}' ) \n",
            "\n",
            "\n",
            "> write a function to add two numbers\n",
            "def add_two_numbers ( num1 , num2 ) : \n",
            "    sum = num1 + num2 \n",
            "    return sum \n",
            "\n",
            "\n",
            "> write a function to print area of circle\n",
            "def findArea ( r ) : \n",
            "    PI = 3.142 \n",
            "    return PI * ( r * r ) \n",
            "\n",
            "\n",
            "> write a program to reverse a string\n",
            "str1 = \"PYnative\" \n",
            "print ( \"Original String is:\" , str1 ) \n",
            "str1 = str1 [ : : - 1 ] \n",
            "print ( \"Reversed String is:\" , str1 ) \n",
            "\n",
            "\n",
            "> write a function to reverse a string\n",
            "def reverse_string ( string ) : \n",
            "    return string [ : : - 1 ] \n",
            "\n",
            "\n",
            "> write a program to print largest of three numbers\n",
            "num1 = 10 \n",
            "num2 = 12 \n",
            "num3 = 14 \n",
            "if ( num1 >= num1 >= num2 ) and ( num2 >= num3 ) : \n",
            "    largest = num1 \n",
            "elif ( num2 >= num3 ) : \n",
            "    largest = num1 \n",
            "elif ( num2 >= num3 ) and ( num2 >= num3 ) : \n",
            "    largest = num3 \n",
            "else : \n",
            "    largest = num3 \n",
            "print ( f'largest:{largest}' ) \n",
            "\n",
            "\n",
            "> write a program to print the smallest of the three numbers\n",
            "num1 = 12 \n",
            "num2 = 12 \n",
            "num3 = 12 \n",
            "if ( num1 >= num3 ) and ( num2 >= num3 ) : \n",
            "    largest = num1 \n",
            "elif ( num2 >= num3 ) : \n",
            "    largest = num1 \n",
            "elif ( num2 >= num3 ) : \n",
            "    largest = num3 \n",
            "elif ( num2 >= num3 ) \n",
            "print ( f'Product: {product}' ) \n",
            "\n",
            "\n",
            "> print smallest of three numbers\n",
            "num1 = 12 \n",
            "num2 = 12 \n",
            "num3 = 12 \n",
            "if ( num1 >= num3 ) and ( num2 >= num3 ) : \n",
            "    largest = num1 \n",
            "elif ( num2 >= num3 ) : \n",
            "    largest = num1 \n",
            "elif ( num2 >= num3 ) : \n",
            "    largest = num3 \n",
            "print ( f'largest:{largest}' ) \n",
            "\n",
            "\n",
            "> print largest of three numbers\n",
            "num1 = 12 \n",
            "num2 = 12 \n",
            "num3 = 14 \n",
            "if ( num1 >= num1 ) and ( num2 >= num3 ) : \n",
            "    largest = num1 \n",
            "elif ( num2 >= num3 ) : \n",
            "    largest = num1 \n",
            "elif ( num2 >= num3 ) : \n",
            "    largest = num3 \n",
            "else : \n",
            "    largest = num3 \n",
            "print ( f'largest:{largest}' ) \n",
            "\n",
            "\n",
            "> area of triangle\n",
            "a = float ( input ( 'Enter first side: ' ) ) \n",
            "c = float ( input ( 'Enter second side: ' ) ) \n",
            "c = float ( input ( 'Enter third side: ' ) ) \n",
            "s = ( s * ( s ) / 2 ) \n",
            "s = ( s * ( s - c ) / 2 ) / 2 \n",
            "print ( area ) \n",
            "\n",
            "\n",
            "> q\n"
          ],
          "name": "stdout"
        }
      ]
    },
    {
      "cell_type": "markdown",
      "metadata": {
        "id": "OVg574ffyGPe"
      },
      "source": [
        "## Example outputs from model"
      ]
    },
    {
      "cell_type": "code",
      "metadata": {
        "id": "HBjjzO1BoH9c",
        "colab": {
          "base_uri": "https://localhost:8080/"
        },
        "outputId": "f3d4da71-1da2-4a85-e061-98bb23f3faf6"
      },
      "source": [
        "# Read the text file\n",
        "example_input = '/content/example_input.txt'\n",
        "example_output = \"/content/example_output.csv\"\n",
        "in_lines = open(example_input, mode=\"r\", encoding=\"utf-8\").readlines()\n",
        "\n",
        "rows_list = []  #list that will be written as csv file\n",
        "\n",
        "for input_sentence in in_lines:\n",
        "    # Evaluate sentence\n",
        "    output_words = generate_words(input_sentence, src, trg, model, device,max_length=300)\n",
        "    # Format and print response sentence\n",
        "    output_words[:] = [x for x in output_words if not (x == '<eos>' or x == '<pad>' or x == '<unk>')]\n",
        "    #print(output_words)\n",
        "    output_words = detokenize_py(output_words)\n",
        "    rows_list.append(['# ' + input_sentence, output_words])\n",
        "    print('#', input_sentence)\n",
        "    print(output_words)\n",
        "\n",
        "with open(example_output, \"w\", newline=\"\", encoding=\"utf-8\") as f:\n",
        "    writer = csv.writer(f)\n",
        "    writer.writerows(rows_list)"
      ],
      "execution_count": 61,
      "outputs": [
        {
          "output_type": "stream",
          "text": [
            "# adding element to a list\n",
            "\n",
            "animals = [ 'cat' , 'dog' , 'rabbit' ] \n",
            "animals . append ( 'guinea pig' ) \n",
            "print ( 'Updated animals list: ' , animals ) \n",
            "\n",
            "\n",
            "# Reverse a given string\n",
            "\n",
            "str1 = \"PYnative\" \n",
            "print ( \"Original String is:\" , str1 ) \n",
            "str1 = str1 [ : : - 1 ] \n",
            "print ( \"Reversed String is:\" , str1 ) \n",
            "\n",
            "\n",
            "# Alternate cases in String\n",
            "\n",
            "test_str = \"geeksforgeeks\" \n",
            "res = \"\" \n",
            "for idx in range ( len ( test_str ) ) : \n",
            "    if not idx % 2 : \n",
            "        res = res + test_str [ idx ] . upper ( ) \n",
            "print ( res ) \n",
            "\n",
            "\n",
            "# reverse a number in python\n",
            "\n",
            "number = 1367891 \n",
            "revs_number = 0 \n",
            "while ( number > 0 ) : \n",
            "    remainder = number % 10 \n",
            "    number = number % 10 \n",
            "    revs_number = number % 10 \n",
            "    revs_number = number % 10 \n",
            "    print ( \"The reverse number is : {}\" . format ( number ) ) \n",
            "\n",
            "\n",
            "# removes trailing characters\n",
            "\n",
            "word = \"Hello World\" \n",
            "check = word . rstrip ( ) \n",
            "print ( f\"String contains upper case?:{check}\" ) \n",
            "\n",
            "\n",
            "# print current day in python\n",
            "\n",
            "from datetime import date \n",
            "today = date . today ( ) \n",
            "print ( \"Today's date:\" , today ) \n",
            "\n",
            "\n",
            "# Calculate length of string\n",
            "\n",
            "word = \"Hello World\" \n",
            "print ( f\"Length of string: {len(word)}\" ) \n",
            "\n",
            "\n",
            "# test if string contains digits\n",
            "\n",
            "word = \"Hello World\" \n",
            "check = word . isalpha ( ) \n",
            "print ( f\"String contains upper case?:{check}\" ) \n",
            "\n",
            "\n",
            "# python program to add two lists\n",
            "\n",
            "list1 = [ 1 , 2 , 3 , 4 , 5 , 6 ] \n",
            "list2 = [ 4 , 5 , 7 , 8 , 8 , 8 , 1 ] \n",
            "list2 = [ ] \n",
            "for i in list1 : \n",
            "    if len ( list1 [ i ] ) % 2 == 0 : \n",
            "        sum_list . append ( list1 [ i ] ) \n",
            "print ( list2 ) \n",
            "\n",
            "\n",
            "# print binary of decimal numbers\n",
            "\n",
            "dec = 344 \n",
            "print ( \"The decimal value of\" , dec , \"is:\" ) \n",
            "print ( bin ( dec ) , \"in binary.\" ) \n",
            "\n",
            "\n",
            "# python program to add three numbers\n",
            "\n",
            "num1 = 1.5 \n",
            "num2 = 6.3 \n",
            "num3 = num1 + num2 \n",
            "print ( f'Sum: {sum}' ) \n",
            "\n",
            "\n",
            "# Sort the list in ascending order\n",
            "\n",
            "my_list = [ 4 , 3 , 9 , 10 , 44 , 1 ] \n",
            "my_list . sort ( ) \n",
            "print ( f\"Ascending Order list:,{my_list}\" ) \n",
            "\n",
            "\n",
            "# Python program to check leap year\n",
            "\n",
            "year = 2000 \n",
            "if ( year % 4 ) == 0 : \n",
            "    if ( year % 100 ) == 0 : \n",
            "        print ( f\"{year} is a leap year\" ) \n",
            "    else : \n",
            "        print ( f\"{year} is a leap year\" ) \n",
            "else : \n",
            "    print ( f\"{year} is not a leap year\" ) \n",
            "\n",
            "\n",
            "# Sort the list in descending order\n",
            "\n",
            "my_list = [ 4 , 3 , 9 , 10 , 44 , 1 ] \n",
            "my_list . sort ( reverse = True ) \n",
            "print ( f\"Descending Order list:,{my_list}\" ) \n",
            "\n",
            "\n",
            "# python function to modify a tuple\n",
            "\n",
            "def modify_tuple ( t ) : \n",
            "    print ( f'Initial t mem-add = {id(t)}' ) \n",
            "    t [ 0 ] = t [ 0 ] \n",
            "    while ( p == 0 ] ) \n",
            "    t : \n",
            "        print ( f'Final t mem-add = {id(t)}' ) \n",
            "\n",
            "\n",
            "# python program to compare strings\n",
            "\n",
            "def compare_using_equals ( n ) : \n",
            "    a = 'a long string that is not intered' * 200 \n",
            "    b = 'a long string that is not intered' * 200 \n",
            "    if a == b : \n",
            "        return b \n",
            "\n",
            "\n",
            "# write a program to join two lists\n",
            "\n",
            "list1 = [ 1 , 2 , 3 , 4 , 5 , 6 ] \n",
            "list2 = [ 5 , 6 , 7 , 8 , 8 , 10 ] \n",
            "sum_list = [ ] \n",
            "for ( item1 , list2 ) in list1 : \n",
            "    sum_list . append ( list1 ) \n",
            "print ( sum_list ) \n",
            "\n",
            "\n",
            "# program to add two numbers\n",
            "\n",
            "num1 = 1.5 \n",
            "num2 = 6.3 \n",
            "sum = num1 + num2 \n",
            "print ( f'Sum: {sum}' ) \n",
            "\n",
            "\n",
            "# function to add two numbers\n",
            "\n",
            "def add_two_numbers ( num1 , num2 ) : \n",
            "    sum = num1 + num2 \n",
            "    return sum \n",
            "\n",
            "\n",
            "# print first letter in list\n",
            "\n",
            "test_list = [ 1 , 2 , 3 , 4 , 5 ] \n",
            "print ( \"The original list is : \" + str ( test_list ) ) \n",
            "K = 1 \n",
            "for i in test_list : \n",
            "    if i . append ( i ) \n",
            "print ( i ) \n",
            "\n",
            "\n",
            "# area of a circle\n",
            "\n",
            "import math \n",
            "def area ( radius ) : \n",
            "    pi = 3.14 \n",
            "    return 2 * pi * pi * r \n",
            "\n",
            "\n",
            "# area of triangle\n",
            "\n",
            "a = float ( input ( 'Enter first side: ' ) ) \n",
            "c = float ( input ( 'Enter second side: ' ) ) \n",
            "c = float ( input ( 'Enter third side: ' ) ) \n",
            "s = ( s * ( s ) / 2 ) \n",
            "s = ( s * ( s - c ) / 2 ) / 2 \n",
            "print ( area ) \n",
            "\n",
            "\n",
            "# write a function to convert tuple to list\n",
            "\n",
            "def convert_tuple2list ( t ) : \n",
            "    return list ( t ) \n",
            "\n",
            "\n",
            "# write a program to find union of two arrays\n",
            "\n",
            "A = { 1 , 2 , 3 , 4 , 5 } \n",
            "union = { 4 , 5 , 6 , 8 } \n",
            "print ( union ( union ) ) \n",
            "\n",
            "\n",
            "# write a program to swap two numbers\n",
            "\n",
            "a = 10 \n",
            "b = a , b = b \n",
            "b = a \n",
            "print ( \"After Swapping two Number: a = {0} and b = {1}\" . format ( a , b ) ) \n",
            "\n",
            "\n",
            "# writ a program to concatenate two strings\n",
            "\n",
            "str1 = 'It is a glorious day' \n",
            "res = len ( str1 ) \n",
            "print ( \"The Final String After Python String Concatenation = \" , str2 ) \n",
            "\n",
            "\n",
            "# write a program to find cosine of a number\n",
            "\n",
            "def cosine ( n , n ) : \n",
            "    return n * n * n * n \n",
            "n = 7 \n",
            "print ( \"Reverse of the number:\" , n ) \n",
            "\n",
            "\n",
            "# write a function to find area of square\n",
            "\n",
            "def area ( a , b ) : \n",
            "    return ( a * b * b * a * b ) \n",
            "\n",
            "\n",
            "# write a function to print the ascii value of letter\n",
            "\n",
            "def show_ascii ( string ) : \n",
            "    import string \n",
            "    for i in string : \n",
            "        i . remove ( i ) \n",
            "    return string \n",
            "\n",
            "\n",
            "# write a program to convert decimal to binary\n",
            "dec = 344 \n",
            "print ( \"The decimal value of\" , dec , \"is:\" ) \n",
            "print ( bin ( dec ) , \"in binary.\" ) \n",
            "\n",
            "\n"
          ],
          "name": "stdout"
        }
      ]
    },
    {
      "cell_type": "code",
      "metadata": {
        "id": "CrC4Lioy18Z_"
      },
      "source": [
        ""
      ],
      "execution_count": null,
      "outputs": []
    }
  ]
}